{
 "cells": [
  {
   "cell_type": "markdown",
   "metadata": {},
   "source": [
    "# DES Algorithm Implementation\n",
    "In this notebook, we will walk through the steps of implementing the Data Encryption Standard (DES) algorithm."
   ]
  },
  {
   "cell_type": "markdown",
   "metadata": {},
   "source": [
    "## Authors\n",
    "[Abtin Zandi](https://github.com/Abtinz), [Mohammad Sadegh Mohammadi](https://github.com/sadegh-msm) \n",
    "\n",
    "## Organization \n",
    "[AUT-basics-of-security-fall-2024](https://github.com/AUT-basics-of-security-fall-2024) "
   ]
  },
  {
   "cell_type": "markdown",
   "metadata": {},
   "source": [
    "## Step 1: Initial Permutation (IP)\n",
    "The first step in DES is to permute the 64-bit input block using a predefined table."
   ]
  },
  {
   "cell_type": "code",
   "execution_count": 49,
   "metadata": {},
   "outputs": [
    {
     "name": "stdout",
     "output_type": "stream",
     "text": [
      "Initial Permutation:  1100110000000000110011001111111111110000101010101111000010101010\n"
     ]
    }
   ],
   "source": [
    "IP_TABLE = [58, 50, 42, 34, 26, 18, 10, 2, 60, 52, 44, 36, 28, 20, 12, 4,\n",
    "            62, 54, 46, 38, 30, 22, 14, 6, 64, 56, 48, 40, 32, 24, 16, 8,\n",
    "            57, 49, 41, 33, 25, 17, 9, 1, 59, 51, 43, 35, 27, 19, 11, 3,\n",
    "            61, 53, 45, 37, 29, 21, 13, 5, 63, 55, 47, 39, 31, 23, 15, 7]\n",
    "\n",
    "#this function will permute the initial inputted block\n",
    "def permute(block, table):\n",
    "    return ''.join([block[i - 1] for i in table])\n",
    "\n",
    "input_block = '0000000100100011010001010110011110001001101010111100110111101111'\n",
    "initial_permutation = permute(input_block, IP_TABLE)\n",
    "print(\"Initial Permutation: \", initial_permutation)"
   ]
  },
  {
   "cell_type": "markdown",
   "metadata": {},
   "source": [
    "Initial Permutation:  1100110000000000110011001111111111110000101010101111000010101010"
   ]
  },
  {
   "cell_type": "markdown",
   "metadata": {},
   "source": [
    "## Step 2: Key Generation\n",
    "We now generate the 56-bit key by ignoring every 8th bit of the original 64-bit key."
   ]
  },
  {
   "cell_type": "code",
   "execution_count": 50,
   "metadata": {},
   "outputs": [
    {
     "name": "stdout",
     "output_type": "stream",
     "text": [
      "56-bit Key:  00010010011010010101101111001001101101111011011111111000\n"
     ]
    }
   ],
   "source": [
    "def generate_56bit_key(key):\n",
    "    # Ignore every 8th bit (0-indexed positions 7, 15, 23, 31, 39, 47, 55)\n",
    "    key_56bit = ''.join([key[i] for i in range(len(key)) if (i + 1) % 8 != 0])\n",
    "    return key_56bit\n",
    "\n",
    "key = '0001001100110100010101110111100110011011101111001101111111110001'\n",
    "key_56bit = generate_56bit_key(key)\n",
    "print(\"56-bit Key: \", key_56bit)"
   ]
  },
  {
   "cell_type": "markdown",
   "metadata": {},
   "source": [
    "56-bit Key:  00010010011010010101101111001001101101111011011111111000"
   ]
  },
  {
   "cell_type": "markdown",
   "metadata": {},
   "source": [
    "## Step 3: Key Splitting and Shifting\n",
    "We split the 56-bit key into two 28-bit halves, and shift them according to the round number."
   ]
  },
  {
   "cell_type": "code",
   "execution_count": 51,
   "metadata": {},
   "outputs": [
    {
     "name": "stdout",
     "output_type": "stream",
     "text": [
      "left half:  0001001001101001010110111100\n",
      "right half:  1001101101111011011111111000\n",
      "Left Half Shifted:  0010010011010010101101111000\n",
      "Right Half Shifted:  0011011011110110111111110001\n"
     ]
    }
   ],
   "source": [
    "SHIFT_TABLE = [1, 1, 2, 2, 2, 2, 2, 2, 1, 2, 2, 2, 2, 2, 2, 1]\n",
    "\n",
    "def shift_left(k, shifts):\n",
    "    n = shifts % len(k)\n",
    "    k = k[n:] + k[:n]\n",
    "    return k\n",
    "\n",
    "# here we should split the generated key into two halves\n",
    "left_half, right_half = key_56bit[:28],key_56bit[28:]\n",
    "\n",
    "print(\"left half: \", left_half)\n",
    "print(\"right half: \", right_half)\n",
    "\n",
    "left_half_shifted = shift_left(left_half,1)\n",
    "right_half_shifted = shift_left(right_half,1)\n",
    "\n",
    "print(\"Left Half Shifted: \", left_half_shifted)\n",
    "print(\"Right Half Shifted: \", right_half_shifted)"
   ]
  },
  {
   "cell_type": "markdown",
   "metadata": {},
   "source": [
    "left half:  0001001001101001010110111100\n",
    "\n",
    "right half:  1001101101111011011111111000\n",
    "\n",
    "Left Half Shifted:  0010010011010010101101111000\n",
    "\n",
    "Right Half Shifted:  0011011011110110111111110001"
   ]
  },
  {
   "cell_type": "markdown",
   "metadata": {},
   "source": [
    "## Step 4: Key Compression\n",
    "We compress the shifted key halves into a 48-bit subkey."
   ]
  },
  {
   "cell_type": "code",
   "execution_count": 52,
   "metadata": {},
   "outputs": [
    {
     "name": "stdout",
     "output_type": "stream",
     "text": [
      "Subkey:  010100101101111000000100011110011101011110111001\n"
     ]
    }
   ],
   "source": [
    "COMPRESSION_TABLE = [14, 17, 11, 24, 1, 5, 3, 28, 15, 6, 21, 10, 23, 19, 12, 4,\n",
    "                    26, 8, 16, 7, 27, 20, 13, 2, 41, 52, 31, 37, 47, 55, 30, 40,\n",
    "                    51, 45, 33, 48, 44, 49, 39, 56, 34, 53, 46, 42, 50, 36, 29, 32]\n",
    "\n",
    "# combine the left and right halves\n",
    "combined_key = left_half_shifted + right_half_shifted\n",
    "\n",
    "def compress_key(combined_key, table):\n",
    "    return ''.join([combined_key[i - 1] for i in table])\n",
    "# compressing the key to 48 bits using permutation function\n",
    "subkey = compress_key(combined_key, COMPRESSION_TABLE)\n",
    "print(\"Subkey: \", subkey)"
   ]
  },
  {
   "cell_type": "markdown",
   "metadata": {},
   "source": [
    "Subkey:  010100101101111000000100011110011101011110111001"
   ]
  },
  {
   "cell_type": "markdown",
   "metadata": {},
   "source": [
    "## Rounds of Encryption\n",
    "--------------------------------------------------------------------------------------------------------------------------------------------------------------------------------------------"
   ]
  },
  {
   "cell_type": "markdown",
   "metadata": {},
   "source": [
    "## Step 5: splitting the block\n",
    "first section of encryption is splitting the block into two halves"
   ]
  },
  {
   "cell_type": "code",
   "execution_count": 53,
   "metadata": {},
   "outputs": [
    {
     "name": "stdout",
     "output_type": "stream",
     "text": [
      "Left half of block:  11001100000000001100110011111111\n",
      "Right half of block:  11110000101010101111000010101010\n"
     ]
    }
   ],
   "source": [
    "#this function will split the initial_permutation into two separated blocks into two 32-bit block\n",
    "def split_block(block):\n",
    "    mid = len(block) // 2\n",
    "    return block[:mid], block[mid:]\n",
    "\n",
    "left_half, right_half = split_block(initial_permutation)\n",
    "print(\"Left half of block: \", left_half)\n",
    "print(\"Right half of block: \", right_half)"
   ]
  },
  {
   "cell_type": "markdown",
   "metadata": {},
   "source": [
    "Left half of block:  11001100000000001100110011111111\n",
    "\n",
    "Right half of block:  11110000101010101111000010101010"
   ]
  },
  {
   "cell_type": "markdown",
   "metadata": {},
   "source": [
    "# Step 6:  \n",
    "second part of encryption iterations is expanding the right half to 48 bits"
   ]
  },
  {
   "cell_type": "code",
   "execution_count": 54,
   "metadata": {},
   "outputs": [
    {
     "name": "stdout",
     "output_type": "stream",
     "text": [
      "expanded right half:  011110100001010101010101011110100001010101010101\n"
     ]
    }
   ],
   "source": [
    "EXPANSION_TABLE = [32, 1, 2, 3, 4, 5, 4, 5, 6, 7, 8, 9, 8, 9, 10, 11, 12, 13, 12, 13, 14, 15, 16, 17,\n",
    "                   16, 17, 18, 19, 20, 21, 20, 21, 22, 23, 24, 25, 24, 25, 26, 27, 28, 29, 28, 29, 30, 31, 32, 1]\n",
    "\n",
    "#this function will expand the right half of processing block to 48 bits with EXPANSION_TABLE\n",
    "def expand_right_half(block, table):\n",
    "    return ''.join([block[i - 1] for i in table])\n",
    "\n",
    "expanded_right = expand_right_half(right_half, EXPANSION_TABLE)\n",
    "print(\"expanded right half: \", expanded_right)"
   ]
  },
  {
   "cell_type": "markdown",
   "metadata": {},
   "source": [
    "expanded right half:  011110100001010101010101011110100001010101010101"
   ]
  },
  {
   "cell_type": "code",
   "execution_count": 55,
   "metadata": {},
   "outputs": [
    {
     "name": "stdout",
     "output_type": "stream",
     "text": [
      "expanded right half:  001010001100101101010001000000111100001011101100\n"
     ]
    }
   ],
   "source": [
    "#after expanding and permuting the right half of given block, we should conduct xor process with round key\n",
    "def xor_function(block, key):\n",
    "    return ''.join(['0' if bit1 == bit2 else '1' for bit1, bit2 in zip(block, key)])\n",
    "\n",
    "xor_val = xor_function(expanded_right, subkey)\n",
    "print(\"expanded right half: \", xor_val)"
   ]
  },
  {
   "cell_type": "markdown",
   "metadata": {},
   "source": [
    "expanded_xor_val right half:  001010001100101101010001000000111100001011101100"
   ]
  },
  {
   "cell_type": "markdown",
   "metadata": {},
   "source": [
    "## Step 7: Processing through S-boxes"
   ]
  },
  {
   "cell_type": "code",
   "execution_count": 56,
   "metadata": {},
   "outputs": [],
   "source": [
    "# substitution box tables for DES encryption process\n",
    "S_BOX = [\n",
    "    # first S-box\n",
    "    [\n",
    "        [14, 4, 13, 1, 2, 15, 11, 8, 3, 10, 6, 12, 5, 9, 0, 7],\n",
    "        [0, 15, 7, 4, 14, 2, 13, 1, 10, 6, 12, 11, 9, 5, 3, 8],\n",
    "        [4, 1, 14, 8, 13, 6, 2, 11, 15, 12, 9, 7, 3, 10, 5, 0],\n",
    "        [15, 12, 8, 2, 4, 9, 1, 7, 5, 11, 3, 14, 10, 0, 6, 13]\n",
    "    ],\n",
    "    # second S-box\n",
    "    [\n",
    "        [15, 1, 8, 14, 6, 11, 3, 4, 9, 7, 2, 13, 12, 0, 5, 10],\n",
    "        [3, 13, 4, 7, 15, 2, 8, 14, 12, 0, 1, 10, 6, 9, 11, 5],\n",
    "        [0, 14, 7, 11, 10, 4, 13, 1, 5, 8, 12, 6, 9, 3, 2, 15],\n",
    "        [13, 8, 10, 1, 3, 15, 4, 2, 11, 6, 7, 12, 0, 5, 14, 9]\n",
    "    ],\n",
    "    # third S-box\n",
    "    [\n",
    "        [10, 0, 9, 14, 6, 3, 15, 5, 1, 13, 12, 7, 11, 4, 2, 8],\n",
    "        [13, 7, 0, 9, 3, 4, 6, 10, 2, 8, 5, 14, 12, 11, 15, 1],\n",
    "        [13, 6, 4, 9, 8, 15, 3, 0, 11, 1, 2, 12, 5, 10, 14, 7],\n",
    "        [1, 10, 13, 0, 6, 9, 8, 7, 4, 15, 14, 3, 11, 5, 2, 12]\n",
    "    ],\n",
    "    # fourth S-box\n",
    "    [\n",
    "        [7, 13, 14, 3, 0, 6, 9, 10, 1, 2, 8, 5, 11, 12, 4, 15],\n",
    "        [13, 8, 11, 5, 6, 15, 0, 3, 4, 7, 2, 12, 1, 10, 14, 9],\n",
    "        [10, 6, 9, 0, 12, 11, 7, 13, 15, 1, 3, 14, 5, 2, 8, 4],\n",
    "        [3, 15, 0, 6, 10, 1, 13, 8, 9, 4, 5, 11, 12, 7, 2, 14]\n",
    "    ],\n",
    "    # fifth S-box\n",
    "    [\n",
    "        [2, 12, 4, 1, 7, 10, 11, 6, 8, 5, 3, 15, 13, 0, 14, 9],\n",
    "        [14, 11, 2, 12, 4, 7, 13, 1, 5, 0, 15, 10, 3, 9, 8, 6],\n",
    "        [4, 2, 1, 11, 10, 13, 7, 8, 15, 9, 12, 5, 6, 3, 0, 14],\n",
    "        [11, 8, 12, 7, 1, 14, 2, 13, 6, 15, 0, 9, 10, 4, 5, 3]\n",
    "    ],\n",
    "    # sixth S-box\n",
    "    [\n",
    "        [12, 1, 10, 15, 9, 2, 6, 8, 0, 13, 3, 4, 14, 7, 5, 11],\n",
    "        [10, 15, 4, 2, 7, 12, 9, 5, 6, 1, 13, 14, 0, 11, 3, 8],\n",
    "        [9, 14, 15, 5, 2, 8, 12, 3, 7, 0, 4, 10, 1, 13, 11, 6],\n",
    "        [4, 3, 2, 12, 9, 5, 15, 10, 11, 14, 1, 7, 6, 0, 8, 13]\n",
    "    ],\n",
    "    # seventh S-box\n",
    "    [\n",
    "        [4, 11, 2, 14, 15, 0, 8, 13, 3, 12, 9, 7, 5, 10, 6, 1],\n",
    "        [13, 0, 11, 7, 4, 9, 1, 10, 14, 3, 5, 12, 2, 15, 8, 6],\n",
    "        [1, 4, 11, 13, 12, 3, 7, 14, 10, 15, 6, 8, 0, 5, 9, 2],\n",
    "        [6, 11, 13, 8, 1, 4, 10, 7, 9, 5, 0, 15, 14, 2, 3, 12]\n",
    "    ],\n",
    "    # eighth S-box 8\n",
    "    [\n",
    "        [13, 2, 8, 4, 6, 15, 11, 1, 10, 9, 3, 14, 5, 0, 12, 7],\n",
    "        [1, 15, 13, 8, 10, 3, 7, 4, 12, 5, 6, 11, 0, 14, 9, 2],\n",
    "        [7, 11, 4, 1, 9, 12, 14, 2, 0, 6, 10, 13, 15, 3, 5, 8],\n",
    "        [2, 1, 14, 7, 4, 10, 8, 13, 15, 12, 9, 0, 3, 5, 6, 11]\n",
    "    ]\n",
    "]"
   ]
  },
  {
   "cell_type": "code",
   "execution_count": 57,
   "metadata": {},
   "outputs": [
    {
     "name": "stdout",
     "output_type": "stream",
     "text": [
      "S-box Output:  11111011000110101110010100100010\n"
     ]
    }
   ],
   "source": [
    "def s_box_lookup(s_box, six_bits):\n",
    "    row = int(six_bits[0] + six_bits[-1], 2)\n",
    "    col = int(six_bits[1:5], 2)\n",
    "    return format(s_box[row][col], '04b')\n",
    "\n",
    "def process_s_boxes(expanded_block):\n",
    "    # Divide the expanded_block into 6-bit sections and process through S-boxes\n",
    "    output = ''\n",
    "    for i in range(0, len(expanded_block), 6):\n",
    "       \n",
    "        six_bits = expanded_block[i:i + 6]\n",
    "        # s_box = S_BOX[i // 6]\n",
    "        s_box = S_BOX[0]\n",
    "        output += s_box_lookup(s_box, six_bits)\n",
    "    return output\n",
    "\n",
    "s_box_output = process_s_boxes(xor_val)\n",
    "print(\"S-box Output: \", s_box_output)"
   ]
  },
  {
   "cell_type": "markdown",
   "metadata": {},
   "source": [
    "S-box Output:  11111011000110101110010100100010"
   ]
  },
  {
   "cell_type": "markdown",
   "metadata": {},
   "source": [
    "## Step 8: Permutation through P-box and XOR with the left half\n",
    "in this section we should permute and xor the result of s_box process conducted on expanded_block \n"
   ]
  },
  {
   "cell_type": "code",
   "execution_count": 58,
   "metadata": {},
   "outputs": [
    {
     "name": "stdout",
     "output_type": "stream",
     "text": [
      "Final Left after P-box and XOR:  10001001110011100010101000110101\n"
     ]
    }
   ],
   "source": [
    "P_BOX_TABLE = [16, 7, 20, 21, 29, 12, 28, 17, 1, 15, 23, 26, 5, 18, 31, 10, 2, 8, 24, 14, 32, 27, 3, 9, 19, 13, 30, 6, 22, 11, 4, 25]\n",
    "\n",
    "#after s-box process, we should permute the result and xor it with the left side of our input\n",
    "def permute_and_xor(left, right, table):\n",
    "    permuted = ''.join([right[i - 1] for i in table])\n",
    "    xored = xor_function(permuted, left)  \n",
    "    return xored\n",
    "\n",
    "final_left = permute_and_xor(left_half, s_box_output, P_BOX_TABLE)\n",
    "print(\"Final Left after P-box and XOR: \", final_left)"
   ]
  },
  {
   "cell_type": "markdown",
   "metadata": {},
   "source": [
    "Final Left after P-box and XOR:  10001001110011100010101000110101"
   ]
  },
  {
   "cell_type": "markdown",
   "metadata": {},
   "source": [
    "## Step 9: Swapping the halves for the next round\n"
   ]
  },
  {
   "cell_type": "code",
   "execution_count": 59,
   "metadata": {},
   "outputs": [
    {
     "name": "stdout",
     "output_type": "stream",
     "text": [
      "New Left Half:  11110000101010101111000010101010\n",
      "New Right Half:  10001001110011100010101000110101\n"
     ]
    }
   ],
   "source": [
    "#last part of each 16-round process conduction in DES is swapping the left and right halves of data blocks\n",
    "def swap_halves(left, right):\n",
    "    new_right = left\n",
    "    new_left = right\n",
    "    return new_left,new_right\n",
    "\n",
    "new_left, new_right = swap_halves(final_left, right_half)\n",
    "print(\"New Left Half: \", new_left)\n",
    "print(\"New Right Half: \", new_right)"
   ]
  },
  {
   "cell_type": "markdown",
   "metadata": {},
   "source": [
    "New Left Half:  11110000101010101111000010101010\n",
    "\n",
    "New Right Half:  10001001110011100010101000110101"
   ]
  },
  {
   "cell_type": "markdown",
   "metadata": {},
   "source": [
    "## Step 10: Rounds of Encryption\n",
    "here we will conduct the process of encryption in DES algorithm by assembling previous steps and returning the final block\n"
   ]
  },
  {
   "cell_type": "code",
   "execution_count": 64,
   "metadata": {},
   "outputs": [
    {
     "name": "stdout",
     "output_type": "stream",
     "text": [
      "Final Block:  1110110110111011001100110010101111101000000101000101001011000000\n"
     ]
    }
   ],
   "source": [
    "def rounds_of_encryption(left, right, rounded_key, num_rounds=16):\n",
    "    for round_number in range(num_rounds):\n",
    "        #here we will assemble our 16-round steps aim at conduction of the encryption process in each 16 iteration\n",
    "        #you should to call each completed step and conduct the 16 round encryption\n",
    "        expanded_right = expand_right_half(right, EXPANSION_TABLE)\n",
    "\n",
    "        xor_output = xor_function(expanded_right, rounded_key)\n",
    "\n",
    "        s_box_output = process_s_boxes(xor_output)\n",
    "\n",
    "        p_box_output = permute_and_xor(left, s_box_output, P_BOX_TABLE)\n",
    "\n",
    "        left, right = right, p_box_output\n",
    "\n",
    "    return left + right\n",
    "\n",
    "# Initialize with the first permutation outputs\n",
    "final_block = rounds_of_encryption(left_half, right_half,subkey)\n",
    "print(\"Final Block: \", final_block)"
   ]
  },
  {
   "cell_type": "markdown",
   "metadata": {},
   "source": [
    "Final Block:  1110110110111011001100110010101111101000000101000101001011000000"
   ]
  },
  {
   "cell_type": "markdown",
   "metadata": {},
   "source": [
    "## Step 11:  Final Permutation Table"
   ]
  },
  {
   "cell_type": "code",
   "execution_count": 70,
   "metadata": {},
   "outputs": [
    {
     "name": "stdout",
     "output_type": "stream",
     "text": [
      "Encrypted Output(DES result):  0101010100011101011000001101000100111100110101011100101011010010\n",
      "Inputted block:                0000000100100011010001010110011110001001101010111100110111101111\n"
     ]
    }
   ],
   "source": [
    "#base on the given diagram of DES algorithm, we have a final permutation after encryption process\n",
    "FP_TABLE = [40, 8, 48, 16, 56, 24, 64, 32,\n",
    "            39, 7, 47, 15, 55, 23, 63, 31,\n",
    "            38, 6, 46, 14, 54, 22, 62, 30,\n",
    "            37, 5, 45, 13, 53, 21, 61, 29,\n",
    "            36, 4, 44, 12, 52, 20, 60, 28,\n",
    "            35, 3, 43, 11, 51, 19, 59, 27,\n",
    "            34, 2, 42, 10, 50, 18, 58, 26,\n",
    "            33, 1, 41, 9, 49, 17, 57, 25]\n",
    "\n",
    "def final_permutation(block, table):\n",
    "    if len(block) != 64:\n",
    "        raise ValueError(f\"Block size must be 64 bits, but got {len(block)} bits\")\n",
    "    \n",
    "    permuted_block = ''.join([block[i - 1] for i in table])\n",
    "    return permuted_block\n",
    "\n",
    "\n",
    "encrypted_output = final_permutation(final_block, FP_TABLE)\n",
    "print(\"Encrypted Output(DES result): \", encrypted_output)\n",
    "print(\"Inputted block:               \", input_block)\n"
   ]
  },
  {
   "cell_type": "markdown",
   "metadata": {},
   "source": [
    "Encrypted Output(DES result):  \n",
    "0101010100011101011000001101000100111100110101011100101011010010\n",
    "\n",
    "Inputted block:                \n",
    "0000000100100011010001010110011110001001101010111100110111101111"
   ]
  }
 ],
 "metadata": {
  "kernelspec": {
   "display_name": "Python 3",
   "language": "python",
   "name": "python3"
  },
  "language_info": {
   "codemirror_mode": {
    "name": "ipython",
    "version": 3
   },
   "file_extension": ".py",
   "mimetype": "text/x-python",
   "name": "python",
   "nbconvert_exporter": "python",
   "pygments_lexer": "ipython3",
   "version": "3.12.7"
  }
 },
 "nbformat": 4,
 "nbformat_minor": 4
}
